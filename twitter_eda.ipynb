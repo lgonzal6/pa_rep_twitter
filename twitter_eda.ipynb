{
 "cells": [
  {
   "cell_type": "code",
   "execution_count": 1,
   "id": "52d13d39-5005-4127-a741-07eff6530712",
   "metadata": {
    "executionInfo": {
     "elapsed": 635,
     "status": "ok",
     "timestamp": 1660136414136,
     "user": {
      "displayName": "Luisa Gonzalez",
      "userId": "09172697332445122098"
     },
     "user_tz": 240
    },
    "id": "52d13d39-5005-4127-a741-07eff6530712"
   },
   "outputs": [],
   "source": [
    "import pandas as pd\n",
    "import numpy as np\n",
    "import matplotlib.pyplot as plt\n",
    "import seaborn as sns\n",
    "\n",
    "from sklearn.feature_extraction.text import CountVectorizer\n",
    "\n",
    "import re"
   ]
  },
  {
   "cell_type": "code",
   "execution_count": 2,
   "id": "mNSLxaL9q_KG",
   "metadata": {
    "colab": {
     "base_uri": "https://localhost:8080/"
    },
    "executionInfo": {
     "elapsed": 1466,
     "status": "ok",
     "timestamp": 1660136415583,
     "user": {
      "displayName": "Luisa Gonzalez",
      "userId": "09172697332445122098"
     },
     "user_tz": 240
    },
    "id": "mNSLxaL9q_KG",
    "outputId": "c060498c-2b3f-4ea1-8305-3be0cc23c866"
   },
   "outputs": [
    {
     "name": "stdout",
     "output_type": "stream",
     "text": [
      "Drive already mounted at /content/drive; to attempt to forcibly remount, call drive.mount(\"/content/drive\", force_remount=True).\n"
     ]
    }
   ],
   "source": [
    "from google.colab import drive\n",
    "drive.mount('/content/drive')"
   ]
  },
  {
   "cell_type": "code",
   "execution_count": 3,
   "id": "Bw_joW0hrH8A",
   "metadata": {
    "colab": {
     "base_uri": "https://localhost:8080/"
    },
    "executionInfo": {
     "elapsed": 3,
     "status": "ok",
     "timestamp": 1660136415583,
     "user": {
      "displayName": "Luisa Gonzalez",
      "userId": "09172697332445122098"
     },
     "user_tz": 240
    },
    "id": "Bw_joW0hrH8A",
    "outputId": "7232d1a0-2594-492d-9aac-0f3facec09ce"
   },
   "outputs": [
    {
     "name": "stdout",
     "output_type": "stream",
     "text": [
      "/content/drive/MyDrive/dawn_chorus\n"
     ]
    }
   ],
   "source": [
    "cd './drive/MyDrive/dawn_chorus'"
   ]
  },
  {
   "cell_type": "code",
   "execution_count": 4,
   "id": "a2c3787f-ffff-44ae-8f34-35eac34585d6",
   "metadata": {
    "colab": {
     "base_uri": "https://localhost:8080/"
    },
    "executionInfo": {
     "elapsed": 1239,
     "status": "ok",
     "timestamp": 1660136416821,
     "user": {
      "displayName": "Luisa Gonzalez",
      "userId": "09172697332445122098"
     },
     "user_tz": 240
    },
    "id": "a2c3787f-ffff-44ae-8f34-35eac34585d6",
    "outputId": "5d3870a7-96a7-4e8c-f8a2-0c63dead5ad4"
   },
   "outputs": [
    {
     "name": "stderr",
     "output_type": "stream",
     "text": [
      "/usr/local/lib/python3.7/dist-packages/IPython/core/interactiveshell.py:2882: DtypeWarning: Columns (18,63,64,65,66,67,68) have mixed types.Specify dtype option on import or set low_memory=False.\n",
      "  exec(code_obj, self.user_global_ns, self.user_ns)\n"
     ]
    }
   ],
   "source": [
    "df = pd.read_csv('pa_reps2022-07-19.csv')"
   ]
  },
  {
   "cell_type": "code",
   "execution_count": 5,
   "id": "146f0b7c-b799-4e0e-bb0d-d24383430319",
   "metadata": {
    "executionInfo": {
     "elapsed": 12,
     "status": "ok",
     "timestamp": 1660136416821,
     "user": {
      "displayName": "Luisa Gonzalez",
      "userId": "09172697332445122098"
     },
     "user_tz": 240
    },
    "id": "146f0b7c-b799-4e0e-bb0d-d24383430319"
   },
   "outputs": [],
   "source": [
    "pd.set_option('display.max_columns', None)"
   ]
  },
  {
   "cell_type": "code",
   "execution_count": 6,
   "id": "4fadf733-0352-4b6e-88ef-b46b62a08629",
   "metadata": {
    "colab": {
     "base_uri": "https://localhost:8080/",
     "height": 332
    },
    "executionInfo": {
     "elapsed": 12,
     "status": "ok",
     "timestamp": 1660136416821,
     "user": {
      "displayName": "Luisa Gonzalez",
      "userId": "09172697332445122098"
     },
     "user_tz": 240
    },
    "id": "4fadf733-0352-4b6e-88ef-b46b62a08629",
    "outputId": "65fabe54-2cdc-4ab4-c029-847ccb1bbb8e"
   },
   "outputs": [
    {
     "data": {
      "text/html": [
       "\n",
       "  <div id=\"df-860898b5-9955-4500-9ea6-455a49f98399\">\n",
       "    <div class=\"colab-df-container\">\n",
       "      <div>\n",
       "<style scoped>\n",
       "    .dataframe tbody tr th:only-of-type {\n",
       "        vertical-align: middle;\n",
       "    }\n",
       "\n",
       "    .dataframe tbody tr th {\n",
       "        vertical-align: top;\n",
       "    }\n",
       "\n",
       "    .dataframe thead th {\n",
       "        text-align: right;\n",
       "    }\n",
       "</style>\n",
       "<table border=\"1\" class=\"dataframe\">\n",
       "  <thead>\n",
       "    <tr style=\"text-align: right;\">\n",
       "      <th></th>\n",
       "      <th>created_at</th>\n",
       "      <th>district</th>\n",
       "      <th>Representative</th>\n",
       "      <th>party</th>\n",
       "      <th>screen_name</th>\n",
       "      <th>text</th>\n",
       "      <th>source</th>\n",
       "      <th>display_text_width</th>\n",
       "      <th>reply_to_status_id</th>\n",
       "      <th>reply_to_user_id</th>\n",
       "      <th>reply_to_screen_name</th>\n",
       "      <th>is_quote</th>\n",
       "      <th>is_retweet</th>\n",
       "      <th>favorite_count</th>\n",
       "      <th>retweet_count</th>\n",
       "      <th>quote_count</th>\n",
       "      <th>reply_count</th>\n",
       "      <th>hashtags</th>\n",
       "      <th>symbols</th>\n",
       "      <th>urls_url</th>\n",
       "      <th>urls_t.co</th>\n",
       "      <th>urls_expanded_url</th>\n",
       "      <th>media_url</th>\n",
       "      <th>media_t.co</th>\n",
       "      <th>media_expanded_url</th>\n",
       "      <th>media_type</th>\n",
       "      <th>ext_media_url</th>\n",
       "      <th>ext_media_t.co</th>\n",
       "      <th>ext_media_expanded_url</th>\n",
       "      <th>ext_media_type</th>\n",
       "      <th>mentions_user_id</th>\n",
       "      <th>mentions_screen_name</th>\n",
       "      <th>lang</th>\n",
       "      <th>quoted_status_id</th>\n",
       "      <th>quoted_text</th>\n",
       "      <th>quoted_created_at</th>\n",
       "      <th>quoted_source</th>\n",
       "      <th>quoted_favorite_count</th>\n",
       "      <th>quoted_retweet_count</th>\n",
       "      <th>quoted_user_id</th>\n",
       "      <th>quoted_screen_name</th>\n",
       "      <th>quoted_name</th>\n",
       "      <th>quoted_followers_count</th>\n",
       "      <th>quoted_friends_count</th>\n",
       "      <th>quoted_statuses_count</th>\n",
       "      <th>quoted_location</th>\n",
       "      <th>quoted_description</th>\n",
       "      <th>quoted_verified</th>\n",
       "      <th>retweet_status_id</th>\n",
       "      <th>retweet_text</th>\n",
       "      <th>retweet_created_at</th>\n",
       "      <th>retweet_source</th>\n",
       "      <th>retweet_favorite_count</th>\n",
       "      <th>retweet_retweet_count</th>\n",
       "      <th>retweet_user_id</th>\n",
       "      <th>retweet_screen_name</th>\n",
       "      <th>retweet_name</th>\n",
       "      <th>retweet_followers_count</th>\n",
       "      <th>retweet_friends_count</th>\n",
       "      <th>retweet_statuses_count</th>\n",
       "      <th>retweet_location</th>\n",
       "      <th>retweet_description</th>\n",
       "      <th>retweet_verified</th>\n",
       "      <th>place_url</th>\n",
       "      <th>place_name</th>\n",
       "      <th>place_full_name</th>\n",
       "      <th>place_type</th>\n",
       "      <th>country</th>\n",
       "      <th>country_code</th>\n",
       "      <th>coords_coords</th>\n",
       "      <th>bbox_coords</th>\n",
       "      <th>status_url</th>\n",
       "      <th>name.x</th>\n",
       "      <th>location</th>\n",
       "      <th>description</th>\n",
       "      <th>url</th>\n",
       "      <th>protected</th>\n",
       "      <th>followers_count</th>\n",
       "      <th>friends_count</th>\n",
       "      <th>listed_count</th>\n",
       "      <th>statuses_count</th>\n",
       "      <th>favourites_count</th>\n",
       "      <th>account_created_at</th>\n",
       "      <th>verified</th>\n",
       "    </tr>\n",
       "  </thead>\n",
       "  <tbody>\n",
       "    <tr>\n",
       "      <th>0</th>\n",
       "      <td>2022-07-18T23:57:58Z</td>\n",
       "      <td>PA-01</td>\n",
       "      <td>Brian Fitzpatrick</td>\n",
       "      <td>Republican</td>\n",
       "      <td>@repbrianfitz</td>\n",
       "      <td>Now more than ever, it is critical that we pro...</td>\n",
       "      <td>Twitter for iPhone</td>\n",
       "      <td>185</td>\n",
       "      <td>NaN</td>\n",
       "      <td>NaN</td>\n",
       "      <td>NaN</td>\n",
       "      <td>False</td>\n",
       "      <td>False</td>\n",
       "      <td>4</td>\n",
       "      <td>1</td>\n",
       "      <td>NaN</td>\n",
       "      <td>NaN</td>\n",
       "      <td>NaN</td>\n",
       "      <td>NaN</td>\n",
       "      <td>riponadvance.com/stories/fitzpa…</td>\n",
       "      <td>https://t.co/omVag47bcj</td>\n",
       "      <td>https://riponadvance.com/stories/fitzpatricks-...</td>\n",
       "      <td>NaN</td>\n",
       "      <td>NaN</td>\n",
       "      <td>NaN</td>\n",
       "      <td>NaN</td>\n",
       "      <td>NaN</td>\n",
       "      <td>NaN</td>\n",
       "      <td>NaN</td>\n",
       "      <td>NaN</td>\n",
       "      <td>NaN</td>\n",
       "      <td>NaN</td>\n",
       "      <td>en</td>\n",
       "      <td>NaN</td>\n",
       "      <td>NaN</td>\n",
       "      <td>NaN</td>\n",
       "      <td>NaN</td>\n",
       "      <td>NaN</td>\n",
       "      <td>NaN</td>\n",
       "      <td>NaN</td>\n",
       "      <td>NaN</td>\n",
       "      <td>NaN</td>\n",
       "      <td>NaN</td>\n",
       "      <td>NaN</td>\n",
       "      <td>NaN</td>\n",
       "      <td>NaN</td>\n",
       "      <td>NaN</td>\n",
       "      <td>NaN</td>\n",
       "      <td>NaN</td>\n",
       "      <td>NaN</td>\n",
       "      <td>NaN</td>\n",
       "      <td>NaN</td>\n",
       "      <td>NaN</td>\n",
       "      <td>NaN</td>\n",
       "      <td>NaN</td>\n",
       "      <td>NaN</td>\n",
       "      <td>NaN</td>\n",
       "      <td>NaN</td>\n",
       "      <td>NaN</td>\n",
       "      <td>NaN</td>\n",
       "      <td>NaN</td>\n",
       "      <td>NaN</td>\n",
       "      <td>NaN</td>\n",
       "      <td>NaN</td>\n",
       "      <td>NaN</td>\n",
       "      <td>NaN</td>\n",
       "      <td>NaN</td>\n",
       "      <td>NaN</td>\n",
       "      <td>NaN</td>\n",
       "      <td>|</td>\n",
       "      <td>|||||||</td>\n",
       "      <td>https://twitter.com/RepBrianFitz/status/154918...</td>\n",
       "      <td>Rep. Brian Fitzpatrick 🇺🇸</td>\n",
       "      <td>Bucks County, PA</td>\n",
       "      <td>A fiercely independent voice for my hometown o...</td>\n",
       "      <td>https://t.co/fDbVS71DZP</td>\n",
       "      <td>False</td>\n",
       "      <td>21431</td>\n",
       "      <td>355</td>\n",
       "      <td>680</td>\n",
       "      <td>3888</td>\n",
       "      <td>480</td>\n",
       "      <td>2017-01-03T15:20:39Z</td>\n",
       "      <td>True</td>\n",
       "    </tr>\n",
       "    <tr>\n",
       "      <th>1</th>\n",
       "      <td>2022-07-17T13:38:30Z</td>\n",
       "      <td>PA-01</td>\n",
       "      <td>Brian Fitzpatrick</td>\n",
       "      <td>Republican</td>\n",
       "      <td>@repbrianfitz</td>\n",
       "      <td>Thank you Dr. Umar Farooq and the Association ...</td>\n",
       "      <td>Twitter for iPhone</td>\n",
       "      <td>267</td>\n",
       "      <td>NaN</td>\n",
       "      <td>NaN</td>\n",
       "      <td>NaN</td>\n",
       "      <td>False</td>\n",
       "      <td>False</td>\n",
       "      <td>1</td>\n",
       "      <td>1</td>\n",
       "      <td>NaN</td>\n",
       "      <td>NaN</td>\n",
       "      <td>NaN</td>\n",
       "      <td>NaN</td>\n",
       "      <td>NaN</td>\n",
       "      <td>NaN</td>\n",
       "      <td>NaN</td>\n",
       "      <td>http://pbs.twimg.com/media/FX31LmpXoAEhxJt.jpg</td>\n",
       "      <td>https://t.co/k7ZPU2yTBx</td>\n",
       "      <td>https://twitter.com/RepBrianFitz/status/154866...</td>\n",
       "      <td>photo</td>\n",
       "      <td>http://pbs.twimg.com/media/FX31LmpXoAEhxJt.jpg</td>\n",
       "      <td>https://t.co/k7ZPU2yTBx</td>\n",
       "      <td>https://twitter.com/RepBrianFitz/status/154866...</td>\n",
       "      <td>NaN</td>\n",
       "      <td>826088894865297408</td>\n",
       "      <td>APPNA</td>\n",
       "      <td>en</td>\n",
       "      <td>NaN</td>\n",
       "      <td>NaN</td>\n",
       "      <td>NaN</td>\n",
       "      <td>NaN</td>\n",
       "      <td>NaN</td>\n",
       "      <td>NaN</td>\n",
       "      <td>NaN</td>\n",
       "      <td>NaN</td>\n",
       "      <td>NaN</td>\n",
       "      <td>NaN</td>\n",
       "      <td>NaN</td>\n",
       "      <td>NaN</td>\n",
       "      <td>NaN</td>\n",
       "      <td>NaN</td>\n",
       "      <td>NaN</td>\n",
       "      <td>NaN</td>\n",
       "      <td>NaN</td>\n",
       "      <td>NaN</td>\n",
       "      <td>NaN</td>\n",
       "      <td>NaN</td>\n",
       "      <td>NaN</td>\n",
       "      <td>NaN</td>\n",
       "      <td>NaN</td>\n",
       "      <td>NaN</td>\n",
       "      <td>NaN</td>\n",
       "      <td>NaN</td>\n",
       "      <td>NaN</td>\n",
       "      <td>NaN</td>\n",
       "      <td>NaN</td>\n",
       "      <td>NaN</td>\n",
       "      <td>NaN</td>\n",
       "      <td>NaN</td>\n",
       "      <td>NaN</td>\n",
       "      <td>NaN</td>\n",
       "      <td>NaN</td>\n",
       "      <td>NaN</td>\n",
       "      <td>|</td>\n",
       "      <td>|||||||</td>\n",
       "      <td>https://twitter.com/RepBrianFitz/status/154866...</td>\n",
       "      <td>Rep. Brian Fitzpatrick 🇺🇸</td>\n",
       "      <td>Bucks County, PA</td>\n",
       "      <td>A fiercely independent voice for my hometown o...</td>\n",
       "      <td>https://t.co/fDbVS71DZP</td>\n",
       "      <td>False</td>\n",
       "      <td>21431</td>\n",
       "      <td>355</td>\n",
       "      <td>680</td>\n",
       "      <td>3888</td>\n",
       "      <td>480</td>\n",
       "      <td>2017-01-03T15:20:39Z</td>\n",
       "      <td>True</td>\n",
       "    </tr>\n",
       "  </tbody>\n",
       "</table>\n",
       "</div>\n",
       "      <button class=\"colab-df-convert\" onclick=\"convertToInteractive('df-860898b5-9955-4500-9ea6-455a49f98399')\"\n",
       "              title=\"Convert this dataframe to an interactive table.\"\n",
       "              style=\"display:none;\">\n",
       "        \n",
       "  <svg xmlns=\"http://www.w3.org/2000/svg\" height=\"24px\"viewBox=\"0 0 24 24\"\n",
       "       width=\"24px\">\n",
       "    <path d=\"M0 0h24v24H0V0z\" fill=\"none\"/>\n",
       "    <path d=\"M18.56 5.44l.94 2.06.94-2.06 2.06-.94-2.06-.94-.94-2.06-.94 2.06-2.06.94zm-11 1L8.5 8.5l.94-2.06 2.06-.94-2.06-.94L8.5 2.5l-.94 2.06-2.06.94zm10 10l.94 2.06.94-2.06 2.06-.94-2.06-.94-.94-2.06-.94 2.06-2.06.94z\"/><path d=\"M17.41 7.96l-1.37-1.37c-.4-.4-.92-.59-1.43-.59-.52 0-1.04.2-1.43.59L10.3 9.45l-7.72 7.72c-.78.78-.78 2.05 0 2.83L4 21.41c.39.39.9.59 1.41.59.51 0 1.02-.2 1.41-.59l7.78-7.78 2.81-2.81c.8-.78.8-2.07 0-2.86zM5.41 20L4 18.59l7.72-7.72 1.47 1.35L5.41 20z\"/>\n",
       "  </svg>\n",
       "      </button>\n",
       "      \n",
       "  <style>\n",
       "    .colab-df-container {\n",
       "      display:flex;\n",
       "      flex-wrap:wrap;\n",
       "      gap: 12px;\n",
       "    }\n",
       "\n",
       "    .colab-df-convert {\n",
       "      background-color: #E8F0FE;\n",
       "      border: none;\n",
       "      border-radius: 50%;\n",
       "      cursor: pointer;\n",
       "      display: none;\n",
       "      fill: #1967D2;\n",
       "      height: 32px;\n",
       "      padding: 0 0 0 0;\n",
       "      width: 32px;\n",
       "    }\n",
       "\n",
       "    .colab-df-convert:hover {\n",
       "      background-color: #E2EBFA;\n",
       "      box-shadow: 0px 1px 2px rgba(60, 64, 67, 0.3), 0px 1px 3px 1px rgba(60, 64, 67, 0.15);\n",
       "      fill: #174EA6;\n",
       "    }\n",
       "\n",
       "    [theme=dark] .colab-df-convert {\n",
       "      background-color: #3B4455;\n",
       "      fill: #D2E3FC;\n",
       "    }\n",
       "\n",
       "    [theme=dark] .colab-df-convert:hover {\n",
       "      background-color: #434B5C;\n",
       "      box-shadow: 0px 1px 3px 1px rgba(0, 0, 0, 0.15);\n",
       "      filter: drop-shadow(0px 1px 2px rgba(0, 0, 0, 0.3));\n",
       "      fill: #FFFFFF;\n",
       "    }\n",
       "  </style>\n",
       "\n",
       "      <script>\n",
       "        const buttonEl =\n",
       "          document.querySelector('#df-860898b5-9955-4500-9ea6-455a49f98399 button.colab-df-convert');\n",
       "        buttonEl.style.display =\n",
       "          google.colab.kernel.accessAllowed ? 'block' : 'none';\n",
       "\n",
       "        async function convertToInteractive(key) {\n",
       "          const element = document.querySelector('#df-860898b5-9955-4500-9ea6-455a49f98399');\n",
       "          const dataTable =\n",
       "            await google.colab.kernel.invokeFunction('convertToInteractive',\n",
       "                                                     [key], {});\n",
       "          if (!dataTable) return;\n",
       "\n",
       "          const docLinkHtml = 'Like what you see? Visit the ' +\n",
       "            '<a target=\"_blank\" href=https://colab.research.google.com/notebooks/data_table.ipynb>data table notebook</a>'\n",
       "            + ' to learn more about interactive tables.';\n",
       "          element.innerHTML = '';\n",
       "          dataTable['output_type'] = 'display_data';\n",
       "          await google.colab.output.renderOutput(dataTable, element);\n",
       "          const docLink = document.createElement('div');\n",
       "          docLink.innerHTML = docLinkHtml;\n",
       "          element.appendChild(docLink);\n",
       "        }\n",
       "      </script>\n",
       "    </div>\n",
       "  </div>\n",
       "  "
      ],
      "text/plain": [
       "             created_at district     Representative       party  \\\n",
       "0  2022-07-18T23:57:58Z    PA-01  Brian Fitzpatrick  Republican   \n",
       "1  2022-07-17T13:38:30Z    PA-01  Brian Fitzpatrick  Republican   \n",
       "\n",
       "     screen_name                                               text  \\\n",
       "0  @repbrianfitz  Now more than ever, it is critical that we pro...   \n",
       "1  @repbrianfitz  Thank you Dr. Umar Farooq and the Association ...   \n",
       "\n",
       "               source  display_text_width  reply_to_status_id  \\\n",
       "0  Twitter for iPhone                 185                 NaN   \n",
       "1  Twitter for iPhone                 267                 NaN   \n",
       "\n",
       "   reply_to_user_id reply_to_screen_name  is_quote  is_retweet  \\\n",
       "0               NaN                  NaN     False       False   \n",
       "1               NaN                  NaN     False       False   \n",
       "\n",
       "   favorite_count  retweet_count  quote_count  reply_count hashtags symbols  \\\n",
       "0               4              1          NaN          NaN      NaN     NaN   \n",
       "1               1              1          NaN          NaN      NaN     NaN   \n",
       "\n",
       "                           urls_url                urls_t.co  \\\n",
       "0  riponadvance.com/stories/fitzpa…  https://t.co/omVag47bcj   \n",
       "1                               NaN                      NaN   \n",
       "\n",
       "                                   urls_expanded_url  \\\n",
       "0  https://riponadvance.com/stories/fitzpatricks-...   \n",
       "1                                                NaN   \n",
       "\n",
       "                                        media_url               media_t.co  \\\n",
       "0                                             NaN                      NaN   \n",
       "1  http://pbs.twimg.com/media/FX31LmpXoAEhxJt.jpg  https://t.co/k7ZPU2yTBx   \n",
       "\n",
       "                                  media_expanded_url media_type  \\\n",
       "0                                                NaN        NaN   \n",
       "1  https://twitter.com/RepBrianFitz/status/154866...      photo   \n",
       "\n",
       "                                    ext_media_url           ext_media_t.co  \\\n",
       "0                                             NaN                      NaN   \n",
       "1  http://pbs.twimg.com/media/FX31LmpXoAEhxJt.jpg  https://t.co/k7ZPU2yTBx   \n",
       "\n",
       "                              ext_media_expanded_url  ext_media_type  \\\n",
       "0                                                NaN             NaN   \n",
       "1  https://twitter.com/RepBrianFitz/status/154866...             NaN   \n",
       "\n",
       "     mentions_user_id mentions_screen_name lang  quoted_status_id quoted_text  \\\n",
       "0                 NaN                  NaN   en               NaN         NaN   \n",
       "1  826088894865297408                APPNA   en               NaN         NaN   \n",
       "\n",
       "  quoted_created_at quoted_source  quoted_favorite_count  \\\n",
       "0               NaN           NaN                    NaN   \n",
       "1               NaN           NaN                    NaN   \n",
       "\n",
       "   quoted_retweet_count  quoted_user_id quoted_screen_name quoted_name  \\\n",
       "0                   NaN             NaN                NaN         NaN   \n",
       "1                   NaN             NaN                NaN         NaN   \n",
       "\n",
       "   quoted_followers_count  quoted_friends_count  quoted_statuses_count  \\\n",
       "0                     NaN                   NaN                    NaN   \n",
       "1                     NaN                   NaN                    NaN   \n",
       "\n",
       "  quoted_location quoted_description quoted_verified  retweet_status_id  \\\n",
       "0             NaN                NaN             NaN                NaN   \n",
       "1             NaN                NaN             NaN                NaN   \n",
       "\n",
       "  retweet_text retweet_created_at retweet_source  retweet_favorite_count  \\\n",
       "0          NaN                NaN            NaN                     NaN   \n",
       "1          NaN                NaN            NaN                     NaN   \n",
       "\n",
       "   retweet_retweet_count  retweet_user_id retweet_screen_name retweet_name  \\\n",
       "0                    NaN              NaN                 NaN          NaN   \n",
       "1                    NaN              NaN                 NaN          NaN   \n",
       "\n",
       "   retweet_followers_count  retweet_friends_count  retweet_statuses_count  \\\n",
       "0                      NaN                    NaN                     NaN   \n",
       "1                      NaN                    NaN                     NaN   \n",
       "\n",
       "  retweet_location retweet_description retweet_verified place_url place_name  \\\n",
       "0              NaN                 NaN              NaN       NaN        NaN   \n",
       "1              NaN                 NaN              NaN       NaN        NaN   \n",
       "\n",
       "  place_full_name place_type country country_code coords_coords bbox_coords  \\\n",
       "0             NaN        NaN     NaN          NaN             |     |||||||   \n",
       "1             NaN        NaN     NaN          NaN             |     |||||||   \n",
       "\n",
       "                                          status_url  \\\n",
       "0  https://twitter.com/RepBrianFitz/status/154918...   \n",
       "1  https://twitter.com/RepBrianFitz/status/154866...   \n",
       "\n",
       "                      name.x          location  \\\n",
       "0  Rep. Brian Fitzpatrick 🇺🇸  Bucks County, PA   \n",
       "1  Rep. Brian Fitzpatrick 🇺🇸  Bucks County, PA   \n",
       "\n",
       "                                         description                      url  \\\n",
       "0  A fiercely independent voice for my hometown o...  https://t.co/fDbVS71DZP   \n",
       "1  A fiercely independent voice for my hometown o...  https://t.co/fDbVS71DZP   \n",
       "\n",
       "   protected  followers_count  friends_count  listed_count  statuses_count  \\\n",
       "0      False            21431            355           680            3888   \n",
       "1      False            21431            355           680            3888   \n",
       "\n",
       "   favourites_count    account_created_at  verified  \n",
       "0               480  2017-01-03T15:20:39Z      True  \n",
       "1               480  2017-01-03T15:20:39Z      True  "
      ]
     },
     "execution_count": 6,
     "metadata": {},
     "output_type": "execute_result"
    }
   ],
   "source": [
    "df.head(2)"
   ]
  },
  {
   "cell_type": "code",
   "execution_count": 7,
   "id": "6489d43c-5e67-4bfa-aee0-bef90c91e5ef",
   "metadata": {
    "colab": {
     "base_uri": "https://localhost:8080/"
    },
    "executionInfo": {
     "elapsed": 11,
     "status": "ok",
     "timestamp": 1660136416821,
     "user": {
      "displayName": "Luisa Gonzalez",
      "userId": "09172697332445122098"
     },
     "user_tz": 240
    },
    "id": "6489d43c-5e67-4bfa-aee0-bef90c91e5ef",
    "outputId": "8070bec7-fff4-4765-a801-097b032b7cc1"
   },
   "outputs": [
    {
     "data": {
      "text/plain": [
       "(52312, 84)"
      ]
     },
     "execution_count": 7,
     "metadata": {},
     "output_type": "execute_result"
    }
   ],
   "source": [
    "df.shape"
   ]
  },
  {
   "cell_type": "code",
   "execution_count": null,
   "id": "922e42f7-ce69-4062-9d43-96ed49e0e84b",
   "metadata": {
    "colab": {
     "base_uri": "https://localhost:8080/"
    },
    "executionInfo": {
     "elapsed": 10,
     "status": "ok",
     "timestamp": 1660136416821,
     "user": {
      "displayName": "Luisa Gonzalez",
      "userId": "09172697332445122098"
     },
     "user_tz": 240
    },
    "id": "922e42f7-ce69-4062-9d43-96ed49e0e84b",
    "outputId": "8a063e17-5052-44b3-823a-c637be4d6682",
    "tags": []
   },
   "outputs": [],
   "source": [
    "df.info()"
   ]
  },
  {
   "cell_type": "markdown",
   "id": "1f12a87d-6f7f-43ba-98e1-7a1b12aece57",
   "metadata": {
    "id": "1f12a87d-6f7f-43ba-98e1-7a1b12aece57"
   },
   "source": [
    "#### Are all accounts verified?"
   ]
  },
  {
   "cell_type": "code",
   "execution_count": 9,
   "id": "9a52ca17-bad7-45e0-8881-786708ac9301",
   "metadata": {
    "colab": {
     "base_uri": "https://localhost:8080/"
    },
    "executionInfo": {
     "elapsed": 9,
     "status": "ok",
     "timestamp": 1660136416821,
     "user": {
      "displayName": "Luisa Gonzalez",
      "userId": "09172697332445122098"
     },
     "user_tz": 240
    },
    "id": "9a52ca17-bad7-45e0-8881-786708ac9301",
    "outputId": "11fb79ec-2f06-4edd-f474-e5f45da53ba5"
   },
   "outputs": [
    {
     "data": {
      "text/plain": [
       "array([ True])"
      ]
     },
     "execution_count": 9,
     "metadata": {},
     "output_type": "execute_result"
    }
   ],
   "source": [
    "df['verified'].unique()"
   ]
  },
  {
   "cell_type": "code",
   "execution_count": 10,
   "id": "b4ccd997-e65c-4048-a012-f4504494c5db",
   "metadata": {
    "colab": {
     "base_uri": "https://localhost:8080/"
    },
    "executionInfo": {
     "elapsed": 7,
     "status": "ok",
     "timestamp": 1660136416821,
     "user": {
      "displayName": "Luisa Gonzalez",
      "userId": "09172697332445122098"
     },
     "user_tz": 240
    },
    "id": "b4ccd997-e65c-4048-a012-f4504494c5db",
    "outputId": "28c724cd-e567-4fa5-df66-2ba55909dc4e"
   },
   "outputs": [
    {
     "data": {
      "text/plain": [
       "Michael Doyle        3200\n",
       "Susan Wild           3200\n",
       "Mary Gay Scanlon     3199\n",
       "Chrissy Houlahan     3199\n",
       "Brian Fitzpatrick    3199\n",
       "Dwight Evans         3199\n",
       "Brendan Boyle        3198\n",
       "Fred Keller          3196\n",
       "Scott Perry          3195\n",
       "Madeleine Dean       3194\n",
       "Glenn Thompson       3194\n",
       "Matt Cartwright      3192\n",
       "Guy Reschenthaler    3191\n",
       "Lloyd Smucker        3189\n",
       "Mike Kelly           3172\n",
       "Dan Mueser           1929\n",
       "John Joyce           1700\n",
       "Conor Lamb            766\n",
       "Name: Representative, dtype: int64"
      ]
     },
     "execution_count": 10,
     "metadata": {},
     "output_type": "execute_result"
    }
   ],
   "source": [
    "# Is the data balanced\n",
    "\n",
    "df['Representative'].value_counts()"
   ]
  },
  {
   "cell_type": "markdown",
   "id": "2dOg5k-lsxlr",
   "metadata": {
    "id": "2dOg5k-lsxlr"
   },
   "source": [
    "Generally, yes, the data seems balanced, except we have very few tweets for Rep Lamb compared to others"
   ]
  },
  {
   "cell_type": "markdown",
   "id": "5f0a8c2d-f31d-48a6-b27c-5ffd057d32fb",
   "metadata": {
    "id": "5f0a8c2d-f31d-48a6-b27c-5ffd057d32fb",
    "tags": []
   },
   "source": [
    "### Let's narrow down the analysis to a few columns"
   ]
  },
  {
   "cell_type": "code",
   "execution_count": 11,
   "id": "a55bb0ae-5ebf-4009-91a7-2f35fec658a9",
   "metadata": {
    "colab": {
     "base_uri": "https://localhost:8080/"
    },
    "executionInfo": {
     "elapsed": 7,
     "status": "ok",
     "timestamp": 1660136416822,
     "user": {
      "displayName": "Luisa Gonzalez",
      "userId": "09172697332445122098"
     },
     "user_tz": 240
    },
    "id": "a55bb0ae-5ebf-4009-91a7-2f35fec658a9",
    "outputId": "271905cd-c4df-4009-d6e6-c7ce28568e00"
   },
   "outputs": [
    {
     "data": {
      "text/plain": [
       "Index(['created_at', 'district', 'Representative', 'party', 'screen_name',\n",
       "       'text', 'source', 'display_text_width', 'reply_to_status_id',\n",
       "       'reply_to_user_id', 'reply_to_screen_name', 'is_quote', 'is_retweet',\n",
       "       'favorite_count', 'retweet_count', 'quote_count', 'reply_count',\n",
       "       'hashtags', 'symbols', 'urls_url', 'urls_t.co', 'urls_expanded_url',\n",
       "       'media_url', 'media_t.co', 'media_expanded_url', 'media_type',\n",
       "       'ext_media_url', 'ext_media_t.co', 'ext_media_expanded_url',\n",
       "       'ext_media_type', 'mentions_user_id', 'mentions_screen_name', 'lang',\n",
       "       'quoted_status_id', 'quoted_text', 'quoted_created_at', 'quoted_source',\n",
       "       'quoted_favorite_count', 'quoted_retweet_count', 'quoted_user_id',\n",
       "       'quoted_screen_name', 'quoted_name', 'quoted_followers_count',\n",
       "       'quoted_friends_count', 'quoted_statuses_count', 'quoted_location',\n",
       "       'quoted_description', 'quoted_verified', 'retweet_status_id',\n",
       "       'retweet_text', 'retweet_created_at', 'retweet_source',\n",
       "       'retweet_favorite_count', 'retweet_retweet_count', 'retweet_user_id',\n",
       "       'retweet_screen_name', 'retweet_name', 'retweet_followers_count',\n",
       "       'retweet_friends_count', 'retweet_statuses_count', 'retweet_location',\n",
       "       'retweet_description', 'retweet_verified', 'place_url', 'place_name',\n",
       "       'place_full_name', 'place_type', 'country', 'country_code',\n",
       "       'coords_coords', 'bbox_coords', 'status_url', 'name.x', 'location',\n",
       "       'description', 'url', 'protected', 'followers_count', 'friends_count',\n",
       "       'listed_count', 'statuses_count', 'favourites_count',\n",
       "       'account_created_at', 'verified'],\n",
       "      dtype='object')"
      ]
     },
     "execution_count": 11,
     "metadata": {},
     "output_type": "execute_result"
    }
   ],
   "source": [
    "df.columns"
   ]
  },
  {
   "cell_type": "code",
   "execution_count": 12,
   "id": "2a959c72-87fb-4cbf-aaf0-4392aa4e3bf3",
   "metadata": {
    "executionInfo": {
     "elapsed": 7,
     "status": "ok",
     "timestamp": 1660136416822,
     "user": {
      "displayName": "Luisa Gonzalez",
      "userId": "09172697332445122098"
     },
     "user_tz": 240
    },
    "id": "2a959c72-87fb-4cbf-aaf0-4392aa4e3bf3"
   },
   "outputs": [],
   "source": [
    "tweets_df = df[['district', 'Representative', 'party', 'text', 'followers_count']].copy(deep=True)"
   ]
  },
  {
   "cell_type": "code",
   "execution_count": 13,
   "id": "4637c909-7d02-4239-8270-5a233d0e9708",
   "metadata": {
    "colab": {
     "base_uri": "https://localhost:8080/",
     "height": 206
    },
    "executionInfo": {
     "elapsed": 6,
     "status": "ok",
     "timestamp": 1660136416822,
     "user": {
      "displayName": "Luisa Gonzalez",
      "userId": "09172697332445122098"
     },
     "user_tz": 240
    },
    "id": "4637c909-7d02-4239-8270-5a233d0e9708",
    "outputId": "3da16898-b8aa-479a-95e6-a23ceab849c4"
   },
   "outputs": [
    {
     "data": {
      "text/html": [
       "\n",
       "  <div id=\"df-190262f4-cf18-46ad-8d16-decaa0ca7d87\">\n",
       "    <div class=\"colab-df-container\">\n",
       "      <div>\n",
       "<style scoped>\n",
       "    .dataframe tbody tr th:only-of-type {\n",
       "        vertical-align: middle;\n",
       "    }\n",
       "\n",
       "    .dataframe tbody tr th {\n",
       "        vertical-align: top;\n",
       "    }\n",
       "\n",
       "    .dataframe thead th {\n",
       "        text-align: right;\n",
       "    }\n",
       "</style>\n",
       "<table border=\"1\" class=\"dataframe\">\n",
       "  <thead>\n",
       "    <tr style=\"text-align: right;\">\n",
       "      <th></th>\n",
       "      <th>district</th>\n",
       "      <th>Representative</th>\n",
       "      <th>party</th>\n",
       "      <th>text</th>\n",
       "      <th>followers_count</th>\n",
       "    </tr>\n",
       "  </thead>\n",
       "  <tbody>\n",
       "    <tr>\n",
       "      <th>0</th>\n",
       "      <td>PA-01</td>\n",
       "      <td>Brian Fitzpatrick</td>\n",
       "      <td>Republican</td>\n",
       "      <td>Now more than ever, it is critical that we pro...</td>\n",
       "      <td>21431</td>\n",
       "    </tr>\n",
       "    <tr>\n",
       "      <th>1</th>\n",
       "      <td>PA-01</td>\n",
       "      <td>Brian Fitzpatrick</td>\n",
       "      <td>Republican</td>\n",
       "      <td>Thank you Dr. Umar Farooq and the Association ...</td>\n",
       "      <td>21431</td>\n",
       "    </tr>\n",
       "    <tr>\n",
       "      <th>2</th>\n",
       "      <td>PA-01</td>\n",
       "      <td>Brian Fitzpatrick</td>\n",
       "      <td>Republican</td>\n",
       "      <td>Today marks the launch of 988, a new lifesavin...</td>\n",
       "      <td>21431</td>\n",
       "    </tr>\n",
       "    <tr>\n",
       "      <th>3</th>\n",
       "      <td>PA-01</td>\n",
       "      <td>Brian Fitzpatrick</td>\n",
       "      <td>Republican</td>\n",
       "      <td>I am proud to cosponsor this bipartisan legisl...</td>\n",
       "      <td>21431</td>\n",
       "    </tr>\n",
       "    <tr>\n",
       "      <th>4</th>\n",
       "      <td>PA-01</td>\n",
       "      <td>Brian Fitzpatrick</td>\n",
       "      <td>Republican</td>\n",
       "      <td>Joe was a recognized leader in Bristol and Buc...</td>\n",
       "      <td>21431</td>\n",
       "    </tr>\n",
       "  </tbody>\n",
       "</table>\n",
       "</div>\n",
       "      <button class=\"colab-df-convert\" onclick=\"convertToInteractive('df-190262f4-cf18-46ad-8d16-decaa0ca7d87')\"\n",
       "              title=\"Convert this dataframe to an interactive table.\"\n",
       "              style=\"display:none;\">\n",
       "        \n",
       "  <svg xmlns=\"http://www.w3.org/2000/svg\" height=\"24px\"viewBox=\"0 0 24 24\"\n",
       "       width=\"24px\">\n",
       "    <path d=\"M0 0h24v24H0V0z\" fill=\"none\"/>\n",
       "    <path d=\"M18.56 5.44l.94 2.06.94-2.06 2.06-.94-2.06-.94-.94-2.06-.94 2.06-2.06.94zm-11 1L8.5 8.5l.94-2.06 2.06-.94-2.06-.94L8.5 2.5l-.94 2.06-2.06.94zm10 10l.94 2.06.94-2.06 2.06-.94-2.06-.94-.94-2.06-.94 2.06-2.06.94z\"/><path d=\"M17.41 7.96l-1.37-1.37c-.4-.4-.92-.59-1.43-.59-.52 0-1.04.2-1.43.59L10.3 9.45l-7.72 7.72c-.78.78-.78 2.05 0 2.83L4 21.41c.39.39.9.59 1.41.59.51 0 1.02-.2 1.41-.59l7.78-7.78 2.81-2.81c.8-.78.8-2.07 0-2.86zM5.41 20L4 18.59l7.72-7.72 1.47 1.35L5.41 20z\"/>\n",
       "  </svg>\n",
       "      </button>\n",
       "      \n",
       "  <style>\n",
       "    .colab-df-container {\n",
       "      display:flex;\n",
       "      flex-wrap:wrap;\n",
       "      gap: 12px;\n",
       "    }\n",
       "\n",
       "    .colab-df-convert {\n",
       "      background-color: #E8F0FE;\n",
       "      border: none;\n",
       "      border-radius: 50%;\n",
       "      cursor: pointer;\n",
       "      display: none;\n",
       "      fill: #1967D2;\n",
       "      height: 32px;\n",
       "      padding: 0 0 0 0;\n",
       "      width: 32px;\n",
       "    }\n",
       "\n",
       "    .colab-df-convert:hover {\n",
       "      background-color: #E2EBFA;\n",
       "      box-shadow: 0px 1px 2px rgba(60, 64, 67, 0.3), 0px 1px 3px 1px rgba(60, 64, 67, 0.15);\n",
       "      fill: #174EA6;\n",
       "    }\n",
       "\n",
       "    [theme=dark] .colab-df-convert {\n",
       "      background-color: #3B4455;\n",
       "      fill: #D2E3FC;\n",
       "    }\n",
       "\n",
       "    [theme=dark] .colab-df-convert:hover {\n",
       "      background-color: #434B5C;\n",
       "      box-shadow: 0px 1px 3px 1px rgba(0, 0, 0, 0.15);\n",
       "      filter: drop-shadow(0px 1px 2px rgba(0, 0, 0, 0.3));\n",
       "      fill: #FFFFFF;\n",
       "    }\n",
       "  </style>\n",
       "\n",
       "      <script>\n",
       "        const buttonEl =\n",
       "          document.querySelector('#df-190262f4-cf18-46ad-8d16-decaa0ca7d87 button.colab-df-convert');\n",
       "        buttonEl.style.display =\n",
       "          google.colab.kernel.accessAllowed ? 'block' : 'none';\n",
       "\n",
       "        async function convertToInteractive(key) {\n",
       "          const element = document.querySelector('#df-190262f4-cf18-46ad-8d16-decaa0ca7d87');\n",
       "          const dataTable =\n",
       "            await google.colab.kernel.invokeFunction('convertToInteractive',\n",
       "                                                     [key], {});\n",
       "          if (!dataTable) return;\n",
       "\n",
       "          const docLinkHtml = 'Like what you see? Visit the ' +\n",
       "            '<a target=\"_blank\" href=https://colab.research.google.com/notebooks/data_table.ipynb>data table notebook</a>'\n",
       "            + ' to learn more about interactive tables.';\n",
       "          element.innerHTML = '';\n",
       "          dataTable['output_type'] = 'display_data';\n",
       "          await google.colab.output.renderOutput(dataTable, element);\n",
       "          const docLink = document.createElement('div');\n",
       "          docLink.innerHTML = docLinkHtml;\n",
       "          element.appendChild(docLink);\n",
       "        }\n",
       "      </script>\n",
       "    </div>\n",
       "  </div>\n",
       "  "
      ],
      "text/plain": [
       "  district     Representative       party  \\\n",
       "0    PA-01  Brian Fitzpatrick  Republican   \n",
       "1    PA-01  Brian Fitzpatrick  Republican   \n",
       "2    PA-01  Brian Fitzpatrick  Republican   \n",
       "3    PA-01  Brian Fitzpatrick  Republican   \n",
       "4    PA-01  Brian Fitzpatrick  Republican   \n",
       "\n",
       "                                                text  followers_count  \n",
       "0  Now more than ever, it is critical that we pro...            21431  \n",
       "1  Thank you Dr. Umar Farooq and the Association ...            21431  \n",
       "2  Today marks the launch of 988, a new lifesavin...            21431  \n",
       "3  I am proud to cosponsor this bipartisan legisl...            21431  \n",
       "4  Joe was a recognized leader in Bristol and Buc...            21431  "
      ]
     },
     "execution_count": 13,
     "metadata": {},
     "output_type": "execute_result"
    }
   ],
   "source": [
    "tweets_df.head()"
   ]
  },
  {
   "cell_type": "code",
   "execution_count": 14,
   "id": "7ed8bb7e-2f5f-4365-a507-ddd9d66393c4",
   "metadata": {
    "colab": {
     "base_uri": "https://localhost:8080/"
    },
    "executionInfo": {
     "elapsed": 6,
     "status": "ok",
     "timestamp": 1660136416822,
     "user": {
      "displayName": "Luisa Gonzalez",
      "userId": "09172697332445122098"
     },
     "user_tz": 240
    },
    "id": "7ed8bb7e-2f5f-4365-a507-ddd9d66393c4",
    "outputId": "ce92ad23-a598-4006-dfef-6dafc944cc17"
   },
   "outputs": [
    {
     "data": {
      "text/plain": [
       "array([21431, 19839, 20859, 75065, 61056, 33681, 15940, 19591, 17356,\n",
       "       40154, 12616, 15810, 15180, 25539, 23486, 26990, 22559, 23248])"
      ]
     },
     "execution_count": 14,
     "metadata": {},
     "output_type": "execute_result"
    }
   ],
   "source": [
    "tweets_df['followers_count'].unique()"
   ]
  },
  {
   "cell_type": "code",
   "execution_count": 15,
   "id": "17283b4b-26bd-4345-b152-f578603295c4",
   "metadata": {
    "colab": {
     "base_uri": "https://localhost:8080/"
    },
    "executionInfo": {
     "elapsed": 5,
     "status": "ok",
     "timestamp": 1660136416822,
     "user": {
      "displayName": "Luisa Gonzalez",
      "userId": "09172697332445122098"
     },
     "user_tz": 240
    },
    "id": "17283b4b-26bd-4345-b152-f578603295c4",
    "outputId": "e1c2d7b3-a0b5-4878-8b35-ca911607ac38"
   },
   "outputs": [
    {
     "data": {
      "text/plain": [
       "18"
      ]
     },
     "execution_count": 15,
     "metadata": {},
     "output_type": "execute_result"
    }
   ],
   "source": [
    "representative = tweets_df['Representative'].unique().tolist()\n",
    "len(representative)"
   ]
  },
  {
   "cell_type": "markdown",
   "id": "34cf5b47-295d-4c20-b9fd-ebc1b68f9e29",
   "metadata": {
    "id": "34cf5b47-295d-4c20-b9fd-ebc1b68f9e29"
   },
   "source": [
    "We have tweets from all 18 congressional leaders in PA"
   ]
  },
  {
   "cell_type": "code",
   "execution_count": 16,
   "id": "1e9d7004-d859-4e5b-b125-e3f8ae17975d",
   "metadata": {
    "executionInfo": {
     "elapsed": 239,
     "status": "ok",
     "timestamp": 1660136417057,
     "user": {
      "displayName": "Luisa Gonzalez",
      "userId": "09172697332445122098"
     },
     "user_tz": 240
    },
    "id": "1e9d7004-d859-4e5b-b125-e3f8ae17975d"
   },
   "outputs": [],
   "source": [
    "followers = {}\n",
    "for r in representative:\n",
    "    followers[r] = tweets_df[tweets_df['Representative']==r]['followers_count'].max()"
   ]
  },
  {
   "cell_type": "code",
   "execution_count": 17,
   "id": "7483f224-9bf8-4c55-a94f-19180593a5ed",
   "metadata": {
    "colab": {
     "base_uri": "https://localhost:8080/"
    },
    "executionInfo": {
     "elapsed": 2,
     "status": "ok",
     "timestamp": 1660136417057,
     "user": {
      "displayName": "Luisa Gonzalez",
      "userId": "09172697332445122098"
     },
     "user_tz": 240
    },
    "id": "7483f224-9bf8-4c55-a94f-19180593a5ed",
    "outputId": "ba191a1f-7078-4f6a-928e-25e2b57ee351"
   },
   "outputs": [
    {
     "data": {
      "text/plain": [
       "{'Brendan Boyle': 19839,\n",
       " 'Brian Fitzpatrick': 21431,\n",
       " 'Chrissy Houlahan': 33681,\n",
       " 'Conor Lamb': 22559,\n",
       " 'Dan Mueser': 17356,\n",
       " 'Dwight Evans': 20859,\n",
       " 'Fred Keller': 15810,\n",
       " 'Glenn Thompson': 23486,\n",
       " 'Guy Reschenthaler': 25539,\n",
       " 'John Joyce': 15180,\n",
       " 'Lloyd Smucker': 12616,\n",
       " 'Madeleine Dean': 75065,\n",
       " 'Mary Gay Scanlon': 61056,\n",
       " 'Matt Cartwright': 19591,\n",
       " 'Michael Doyle': 23248,\n",
       " 'Mike Kelly': 26990,\n",
       " 'Scott Perry': 40154,\n",
       " 'Susan Wild': 15940}"
      ]
     },
     "execution_count": 17,
     "metadata": {},
     "output_type": "execute_result"
    }
   ],
   "source": [
    "followers"
   ]
  },
  {
   "cell_type": "code",
   "execution_count": 18,
   "id": "a589f92c-c8f7-4164-b637-86ecc0292062",
   "metadata": {
    "executionInfo": {
     "elapsed": 2,
     "status": "ok",
     "timestamp": 1660136417057,
     "user": {
      "displayName": "Luisa Gonzalez",
      "userId": "09172697332445122098"
     },
     "user_tz": 240
    },
    "id": "a589f92c-c8f7-4164-b637-86ecc0292062"
   },
   "outputs": [],
   "source": [
    "followers_df = pd.DataFrame.from_dict(followers, orient='index')\n",
    "followers_df.sort_values(by=0, inplace=True)"
   ]
  },
  {
   "cell_type": "code",
   "execution_count": 19,
   "id": "1800cd71-325f-4b33-a001-45caf09fda2f",
   "metadata": {
    "executionInfo": {
     "elapsed": 1,
     "status": "ok",
     "timestamp": 1660136417057,
     "user": {
      "displayName": "Luisa Gonzalez",
      "userId": "09172697332445122098"
     },
     "user_tz": 240
    },
    "id": "1800cd71-325f-4b33-a001-45caf09fda2f"
   },
   "outputs": [],
   "source": [
    "sns.set_context('notebook')"
   ]
  },
  {
   "cell_type": "code",
   "execution_count": 20,
   "id": "d481382b-bc86-4e9a-bdda-882eebb3888b",
   "metadata": {
    "colab": {
     "base_uri": "https://localhost:8080/",
     "height": 301
    },
    "executionInfo": {
     "elapsed": 453,
     "status": "ok",
     "timestamp": 1660136417509,
     "user": {
      "displayName": "Luisa Gonzalez",
      "userId": "09172697332445122098"
     },
     "user_tz": 240
    },
    "id": "d481382b-bc86-4e9a-bdda-882eebb3888b",
    "outputId": "27cfad39-c4db-4933-f4a0-96026436479a"
   },
   "outputs": [
    {
     "data": {
      "text/plain": [
       "<Figure size 1080x648 with 0 Axes>"
      ]
     },
     "metadata": {},
     "output_type": "display_data"
    },
    {
     "data": {
      "image/png": "[encoded data removed]",
      "text/plain": [
       "<Figure size 432x288 with 1 Axes>"
      ]
     },
     "metadata": {
      "needs_background": "light"
     },
     "output_type": "display_data"
    }
   ],
   "source": [
    "plt.figure(figsize=(15, 9))\n",
    "followers_df.plot(kind='barh')\n",
    "plt.legend('')\n",
    "plt.xticks()\n",
    "plt.title('Count of tweeter followers');"
   ]
  },
  {
   "cell_type": "markdown",
   "id": "a848f72a-8c95-4725-8939-5dee252d333e",
   "metadata": {
    "id": "a848f72a-8c95-4725-8939-5dee252d333e"
   },
   "source": [
    "From the graph above, we can see that Madeleine Dean is the most popular congressional leader in PA. "
   ]
  },
  {
   "cell_type": "markdown",
   "id": "0a9db1d5-c89c-48db-8b6e-58266aefcd5f",
   "metadata": {
    "id": "0a9db1d5-c89c-48db-8b6e-58266aefcd5f"
   },
   "source": [
    "#### What is representation of political parties among the representatives "
   ]
  },
  {
   "cell_type": "code",
   "execution_count": 21,
   "id": "52f6e1a1-8822-42bf-b938-6ec1f4978153",
   "metadata": {
    "colab": {
     "base_uri": "https://localhost:8080/"
    },
    "executionInfo": {
     "elapsed": 5,
     "status": "ok",
     "timestamp": 1660136417510,
     "user": {
      "displayName": "Luisa Gonzalez",
      "userId": "09172697332445122098"
     },
     "user_tz": 240
    },
    "id": "52f6e1a1-8822-42bf-b938-6ec1f4978153",
    "outputId": "c165e13e-2655-4c48-be86-44c723a90fab"
   },
   "outputs": [
    {
     "data": {
      "text/plain": [
       "Democratic    0.503651\n",
       "Republican    0.496349\n",
       "Name: party, dtype: float64"
      ]
     },
     "execution_count": 21,
     "metadata": {},
     "output_type": "execute_result"
    }
   ],
   "source": [
    "tweets_df['party'].value_counts(normalize=True)"
   ]
  },
  {
   "cell_type": "markdown",
   "id": "c9812da0-818b-4330-8048-750b206909ae",
   "metadata": {
    "id": "c9812da0-818b-4330-8048-750b206909ae"
   },
   "source": [
    "#### Let's see which words are most represented in the entire corpus of tweets"
   ]
  },
  {
   "cell_type": "markdown",
   "id": "58d1e3ba-3dd6-4cbc-b54d-f061a240812e",
   "metadata": {
    "id": "58d1e3ba-3dd6-4cbc-b54d-f061a240812e"
   },
   "source": [
    "First, we should clean up the tweets "
   ]
  },
  {
   "cell_type": "code",
   "execution_count": 22,
   "id": "22e56027-94f9-47d6-8e96-d9524613aeda",
   "metadata": {
    "executionInfo": {
     "elapsed": 849,
     "status": "ok",
     "timestamp": 1660136418357,
     "user": {
      "displayName": "Luisa Gonzalez",
      "userId": "09172697332445122098"
     },
     "user_tz": 240
    },
    "id": "22e56027-94f9-47d6-8e96-d9524613aeda"
   },
   "outputs": [],
   "source": [
    "def remove_emojis(data):\n",
    "    emoj = re.compile(\"[\"\n",
    "        u\"\\U0001F600-\\U0001F64F\"  # emoticons\n",
    "        u\"\\U0001F300-\\U0001F5FF\"  # symbols & pictographs\n",
    "        u\"\\U0001F680-\\U0001F6FF\"  # transport & map symbols\n",
    "        u\"\\U0001F1E0-\\U0001F1FF\"  # flags (iOS)\n",
    "        u\"\\U00002500-\\U00002BEF\"  # chinese char\n",
    "        u\"\\U00002702-\\U000027B0\"\n",
    "        u\"\\U00002702-\\U000027B0\"\n",
    "        u\"\\U000024C2-\\U0001F251\"\n",
    "        u\"\\U0001f926-\\U0001f937\"\n",
    "        u\"\\U00010000-\\U0010ffff\"\n",
    "        u\"\\u2640-\\u2642\" \n",
    "        u\"\\u2600-\\u2B55\"\n",
    "        u\"\\u200d\"\n",
    "        u\"\\u23cf\"\n",
    "        u\"\\u23e9\"\n",
    "        u\"\\u231a\"\n",
    "        u\"\\ufe0f\"  # dingbats\n",
    "        u\"\\u3030\"\n",
    "                      \"]+\", re.UNICODE)\n",
    "    return re.sub(emoj, '', data)\n",
    "\n",
    "def url_free_text(text):\n",
    "    '''\n",
    "    Cleans text from urls\n",
    "    '''\n",
    "    text = re.sub(r'http\\S+', '', text)\n",
    "    text = text.replace('amp', ' ')\n",
    "    return text\n",
    "\n",
    "# Apply the function above and get tweets free of emoji's\n",
    "call_emoji_free = lambda x: remove_emojis(x)\n",
    "\n",
    "# Apply `call_emoji_free` which calls the function to remove all emoji's\n",
    "tweets_df['emoji_free_tweets'] = tweets_df['text'].apply(call_emoji_free)\n",
    "\n",
    "#Create a new column with url free tweets\n",
    "tweets_df['url_free_tweets'] = tweets_df['emoji_free_tweets'].apply(url_free_text)"
   ]
  },
  {
   "cell_type": "code",
   "execution_count": 23,
   "id": "11200c81-30e3-4449-8b59-7b4a20f940cb",
   "metadata": {
    "executionInfo": {
     "elapsed": 3,
     "status": "ok",
     "timestamp": 1660136418358,
     "user": {
      "displayName": "Luisa Gonzalez",
      "userId": "09172697332445122098"
     },
     "user_tz": 240
    },
    "id": "11200c81-30e3-4449-8b59-7b4a20f940cb"
   },
   "outputs": [],
   "source": [
    "# Keep only the clean version of texts \n",
    "\n",
    "tweets_df.drop(columns=['text', 'emoji_free_tweets'], inplace=True)"
   ]
  },
  {
   "cell_type": "code",
   "execution_count": 24,
   "id": "19d330fa-a501-4c9c-8ded-efa83803fba0",
   "metadata": {
    "colab": {
     "base_uri": "https://localhost:8080/",
     "height": 206
    },
    "executionInfo": {
     "elapsed": 3,
     "status": "ok",
     "timestamp": 1660136418358,
     "user": {
      "displayName": "Luisa Gonzalez",
      "userId": "09172697332445122098"
     },
     "user_tz": 240
    },
    "id": "19d330fa-a501-4c9c-8ded-efa83803fba0",
    "outputId": "83ca2923-840d-43e2-e2d7-e613bd0ebba7"
   },
   "outputs": [
    {
     "data": {
      "text/html": [
       "\n",
       "  <div id=\"df-fa7f619e-4e95-46ff-b29f-97ed74d7ce67\">\n",
       "    <div class=\"colab-df-container\">\n",
       "      <div>\n",
       "<style scoped>\n",
       "    .dataframe tbody tr th:only-of-type {\n",
       "        vertical-align: middle;\n",
       "    }\n",
       "\n",
       "    .dataframe tbody tr th {\n",
       "        vertical-align: top;\n",
       "    }\n",
       "\n",
       "    .dataframe thead th {\n",
       "        text-align: right;\n",
       "    }\n",
       "</style>\n",
       "<table border=\"1\" class=\"dataframe\">\n",
       "  <thead>\n",
       "    <tr style=\"text-align: right;\">\n",
       "      <th></th>\n",
       "      <th>district</th>\n",
       "      <th>Representative</th>\n",
       "      <th>party</th>\n",
       "      <th>followers_count</th>\n",
       "      <th>url_free_tweets</th>\n",
       "    </tr>\n",
       "  </thead>\n",
       "  <tbody>\n",
       "    <tr>\n",
       "      <th>0</th>\n",
       "      <td>PA-01</td>\n",
       "      <td>Brian Fitzpatrick</td>\n",
       "      <td>Republican</td>\n",
       "      <td>21431</td>\n",
       "      <td>Now more than ever, it is critical that we pro...</td>\n",
       "    </tr>\n",
       "    <tr>\n",
       "      <th>1</th>\n",
       "      <td>PA-01</td>\n",
       "      <td>Brian Fitzpatrick</td>\n",
       "      <td>Republican</td>\n",
       "      <td>21431</td>\n",
       "      <td>Thank you Dr. Umar Farooq and the Association ...</td>\n",
       "    </tr>\n",
       "    <tr>\n",
       "      <th>2</th>\n",
       "      <td>PA-01</td>\n",
       "      <td>Brian Fitzpatrick</td>\n",
       "      <td>Republican</td>\n",
       "      <td>21431</td>\n",
       "      <td>Today marks the launch of 988, a new lifesavin...</td>\n",
       "    </tr>\n",
       "    <tr>\n",
       "      <th>3</th>\n",
       "      <td>PA-01</td>\n",
       "      <td>Brian Fitzpatrick</td>\n",
       "      <td>Republican</td>\n",
       "      <td>21431</td>\n",
       "      <td>I am proud to cosponsor this bipartisan legisl...</td>\n",
       "    </tr>\n",
       "    <tr>\n",
       "      <th>4</th>\n",
       "      <td>PA-01</td>\n",
       "      <td>Brian Fitzpatrick</td>\n",
       "      <td>Republican</td>\n",
       "      <td>21431</td>\n",
       "      <td>Joe was a recognized leader in Bristol and Buc...</td>\n",
       "    </tr>\n",
       "  </tbody>\n",
       "</table>\n",
       "</div>\n",
       "      <button class=\"colab-df-convert\" onclick=\"convertToInteractive('df-fa7f619e-4e95-46ff-b29f-97ed74d7ce67')\"\n",
       "              title=\"Convert this dataframe to an interactive table.\"\n",
       "              style=\"display:none;\">\n",
       "        \n",
       "  <svg xmlns=\"http://www.w3.org/2000/svg\" height=\"24px\"viewBox=\"0 0 24 24\"\n",
       "       width=\"24px\">\n",
       "    <path d=\"M0 0h24v24H0V0z\" fill=\"none\"/>\n",
       "    <path d=\"M18.56 5.44l.94 2.06.94-2.06 2.06-.94-2.06-.94-.94-2.06-.94 2.06-2.06.94zm-11 1L8.5 8.5l.94-2.06 2.06-.94-2.06-.94L8.5 2.5l-.94 2.06-2.06.94zm10 10l.94 2.06.94-2.06 2.06-.94-2.06-.94-.94-2.06-.94 2.06-2.06.94z\"/><path d=\"M17.41 7.96l-1.37-1.37c-.4-.4-.92-.59-1.43-.59-.52 0-1.04.2-1.43.59L10.3 9.45l-7.72 7.72c-.78.78-.78 2.05 0 2.83L4 21.41c.39.39.9.59 1.41.59.51 0 1.02-.2 1.41-.59l7.78-7.78 2.81-2.81c.8-.78.8-2.07 0-2.86zM5.41 20L4 18.59l7.72-7.72 1.47 1.35L5.41 20z\"/>\n",
       "  </svg>\n",
       "      </button>\n",
       "      \n",
       "  <style>\n",
       "    .colab-df-container {\n",
       "      display:flex;\n",
       "      flex-wrap:wrap;\n",
       "      gap: 12px;\n",
       "    }\n",
       "\n",
       "    .colab-df-convert {\n",
       "      background-color: #E8F0FE;\n",
       "      border: none;\n",
       "      border-radius: 50%;\n",
       "      cursor: pointer;\n",
       "      display: none;\n",
       "      fill: #1967D2;\n",
       "      height: 32px;\n",
       "      padding: 0 0 0 0;\n",
       "      width: 32px;\n",
       "    }\n",
       "\n",
       "    .colab-df-convert:hover {\n",
       "      background-color: #E2EBFA;\n",
       "      box-shadow: 0px 1px 2px rgba(60, 64, 67, 0.3), 0px 1px 3px 1px rgba(60, 64, 67, 0.15);\n",
       "      fill: #174EA6;\n",
       "    }\n",
       "\n",
       "    [theme=dark] .colab-df-convert {\n",
       "      background-color: #3B4455;\n",
       "      fill: #D2E3FC;\n",
       "    }\n",
       "\n",
       "    [theme=dark] .colab-df-convert:hover {\n",
       "      background-color: #434B5C;\n",
       "      box-shadow: 0px 1px 3px 1px rgba(0, 0, 0, 0.15);\n",
       "      filter: drop-shadow(0px 1px 2px rgba(0, 0, 0, 0.3));\n",
       "      fill: #FFFFFF;\n",
       "    }\n",
       "  </style>\n",
       "\n",
       "      <script>\n",
       "        const buttonEl =\n",
       "          document.querySelector('#df-fa7f619e-4e95-46ff-b29f-97ed74d7ce67 button.colab-df-convert');\n",
       "        buttonEl.style.display =\n",
       "          google.colab.kernel.accessAllowed ? 'block' : 'none';\n",
       "\n",
       "        async function convertToInteractive(key) {\n",
       "          const element = document.querySelector('#df-fa7f619e-4e95-46ff-b29f-97ed74d7ce67');\n",
       "          const dataTable =\n",
       "            await google.colab.kernel.invokeFunction('convertToInteractive',\n",
       "                                                     [key], {});\n",
       "          if (!dataTable) return;\n",
       "\n",
       "          const docLinkHtml = 'Like what you see? Visit the ' +\n",
       "            '<a target=\"_blank\" href=https://colab.research.google.com/notebooks/data_table.ipynb>data table notebook</a>'\n",
       "            + ' to learn more about interactive tables.';\n",
       "          element.innerHTML = '';\n",
       "          dataTable['output_type'] = 'display_data';\n",
       "          await google.colab.output.renderOutput(dataTable, element);\n",
       "          const docLink = document.createElement('div');\n",
       "          docLink.innerHTML = docLinkHtml;\n",
       "          element.appendChild(docLink);\n",
       "        }\n",
       "      </script>\n",
       "    </div>\n",
       "  </div>\n",
       "  "
      ],
      "text/plain": [
       "  district     Representative       party  followers_count  \\\n",
       "0    PA-01  Brian Fitzpatrick  Republican            21431   \n",
       "1    PA-01  Brian Fitzpatrick  Republican            21431   \n",
       "2    PA-01  Brian Fitzpatrick  Republican            21431   \n",
       "3    PA-01  Brian Fitzpatrick  Republican            21431   \n",
       "4    PA-01  Brian Fitzpatrick  Republican            21431   \n",
       "\n",
       "                                     url_free_tweets  \n",
       "0  Now more than ever, it is critical that we pro...  \n",
       "1  Thank you Dr. Umar Farooq and the Association ...  \n",
       "2  Today marks the launch of 988, a new lifesavin...  \n",
       "3  I am proud to cosponsor this bipartisan legisl...  \n",
       "4  Joe was a recognized leader in Bristol and Buc...  "
      ]
     },
     "execution_count": 24,
     "metadata": {},
     "output_type": "execute_result"
    }
   ],
   "source": [
    "tweets_df.head()"
   ]
  },
  {
   "cell_type": "code",
   "execution_count": 25,
   "id": "fd19cf36-d01d-48a3-9c3a-6060e31d50dc",
   "metadata": {
    "executionInfo": {
     "elapsed": 2625,
     "status": "ok",
     "timestamp": 1660136420981,
     "user": {
      "displayName": "Luisa Gonzalez",
      "userId": "09172697332445122098"
     },
     "user_tz": 240
    },
    "id": "fd19cf36-d01d-48a3-9c3a-6060e31d50dc"
   },
   "outputs": [],
   "source": [
    "# Tokenize our tweets \n",
    "\n",
    "text = tweets_df['url_free_tweets'].copy(deep=True)\n",
    "\n",
    "cv = CountVectorizer(stop_words='english', max_df=.90, min_df=2)\n",
    "cv.fit(text)\n",
    "text_cv = cv.transform(text)"
   ]
  },
  {
   "cell_type": "code",
   "execution_count": 26,
   "id": "613d2570-b23b-4ac7-bf6c-2dd53a94b11e",
   "metadata": {
    "executionInfo": {
     "elapsed": 4877,
     "status": "ok",
     "timestamp": 1660136425856,
     "user": {
      "displayName": "Luisa Gonzalez",
      "userId": "09172697332445122098"
     },
     "user_tz": 240
    },
    "id": "613d2570-b23b-4ac7-bf6c-2dd53a94b11e"
   },
   "outputs": [],
   "source": [
    "text_df = pd.DataFrame(text_cv.A, columns=cv.get_feature_names_out())"
   ]
  },
  {
   "cell_type": "markdown",
   "id": "b099ebf6-a3ea-4311-a1d4-9e12ca1986ff",
   "metadata": {
    "id": "b099ebf6-a3ea-4311-a1d4-9e12ca1986ff"
   },
   "source": [
    "#### What are the most common word in all tweets across the entire corpus?"
   ]
  },
  {
   "cell_type": "code",
   "execution_count": 27,
   "id": "9dcdb936-0c9d-41de-a159-707d6e9bc31f",
   "metadata": {
    "colab": {
     "base_uri": "https://localhost:8080/"
    },
    "executionInfo": {
     "elapsed": 935,
     "status": "ok",
     "timestamp": 1660136426769,
     "user": {
      "displayName": "Luisa Gonzalez",
      "userId": "09172697332445122098"
     },
     "user_tz": 240
    },
    "id": "9dcdb936-0c9d-41de-a159-707d6e9bc31f",
    "outputId": "60c5ffd1-b59d-48df-e179-077e100f9c67"
   },
   "outputs": [
    {
     "data": {
      "text/plain": [
       "today        6729\n",
       "act          4647\n",
       "american     4092\n",
       "people       3704\n",
       "americans    3572\n",
       "house        3512\n",
       "help         3454\n",
       "health       3304\n",
       "work         3246\n",
       "support      3218\n",
       "dtype: int64"
      ]
     },
     "execution_count": 27,
     "metadata": {},
     "output_type": "execute_result"
    }
   ],
   "source": [
    "text_df.sum().sort_values(ascending=False).head(10)"
   ]
  },
  {
   "cell_type": "markdown",
   "id": "24e3c35b-bf7a-4e70-8ad7-1aff1d20db8b",
   "metadata": {
    "id": "24e3c35b-bf7a-4e70-8ad7-1aff1d20db8b"
   },
   "source": [
    "#### What are the least commonly used words in the entire corpus?"
   ]
  },
  {
   "cell_type": "code",
   "execution_count": 28,
   "id": "5398927b-d5f1-492d-a68e-1fc008457b78",
   "metadata": {
    "colab": {
     "base_uri": "https://localhost:8080/"
    },
    "executionInfo": {
     "elapsed": 1138,
     "status": "ok",
     "timestamp": 1660136427905,
     "user": {
      "displayName": "Luisa Gonzalez",
      "userId": "09172697332445122098"
     },
     "user_tz": 240
    },
    "id": "5398927b-d5f1-492d-a68e-1fc008457b78",
    "outputId": "d4881ee5-1d6b-402c-adc4-ed34fab01eb2"
   },
   "outputs": [
    {
     "data": {
      "text/plain": [
       "únete                        2\n",
       "childhoodcancerawareness     2\n",
       "moses                        2\n",
       "moshannon                    2\n",
       "childhealthday               2\n",
       "childcareisinfrastructure    2\n",
       "motels                       2\n",
       "childabusepreventionmonth    2\n",
       "motherhood                   2\n",
       "moscow                       2\n",
       "dtype: int64"
      ]
     },
     "execution_count": 28,
     "metadata": {},
     "output_type": "execute_result"
    }
   ],
   "source": [
    "text_df.sum().sort_values(ascending=True).head(10)"
   ]
  },
  {
   "cell_type": "markdown",
   "id": "310fc287-580d-46c4-9d75-934e8c72f5bf",
   "metadata": {
    "id": "310fc287-580d-46c4-9d75-934e8c72f5bf"
   },
   "source": [
    "### Add vectorized text to the tweets dataframe"
   ]
  },
  {
   "cell_type": "code",
   "execution_count": 29,
   "id": "4134ca95-c033-4529-9ba8-0e680c8dd662",
   "metadata": {
    "colab": {
     "base_uri": "https://localhost:8080/"
    },
    "executionInfo": {
     "elapsed": 4,
     "status": "ok",
     "timestamp": 1660136427906,
     "user": {
      "displayName": "Luisa Gonzalez",
      "userId": "09172697332445122098"
     },
     "user_tz": 240
    },
    "id": "4134ca95-c033-4529-9ba8-0e680c8dd662",
    "outputId": "e0d7247d-9802-48a9-9250-c620179c455a"
   },
   "outputs": [
    {
     "data": {
      "text/plain": [
       "21971"
      ]
     },
     "execution_count": 29,
     "metadata": {},
     "output_type": "execute_result"
    }
   ],
   "source": [
    "# How many tokens were created by the countvectorizer?\n",
    "text_df.shape[1]"
   ]
  },
  {
   "cell_type": "code",
   "execution_count": 30,
   "id": "2c83572a-4db8-43bb-833f-f55d573e19c0",
   "metadata": {
    "executionInfo": {
     "elapsed": 33791,
     "status": "ok",
     "timestamp": 1660136461695,
     "user": {
      "displayName": "Luisa Gonzalez",
      "userId": "09172697332445122098"
     },
     "user_tz": 240
    },
    "id": "2c83572a-4db8-43bb-833f-f55d573e19c0"
   },
   "outputs": [],
   "source": [
    "tweets_cv = pd.concat([tweets_df, text_df], axis=1)"
   ]
  },
  {
   "cell_type": "code",
   "execution_count": 31,
   "id": "9316ae53-f3ff-478c-9059-06faf65784fe",
   "metadata": {
    "colab": {
     "base_uri": "https://localhost:8080/",
     "height": 444,
     "output_embedded_package_id": "1HReygA4SYLxgGQWD7c4ZfYCu0bHQrEG6"
    },
    "executionInfo": {
     "elapsed": 7365,
     "status": "ok",
     "timestamp": 1660136469050,
     "user": {
      "displayName": "Luisa Gonzalez",
      "userId": "09172697332445122098"
     },
     "user_tz": 240
    },
    "id": "9316ae53-f3ff-478c-9059-06faf65784fe",
    "outputId": "636640b5-42e1-43f4-819f-8fb727290cfe"
   },
   "outputs": [
    {
     "data": {
      "text/plain": [
       "Output hidden; open in https://colab.research.google.com to view."
      ]
     },
     "metadata": {},
     "output_type": "display_data"
    }
   ],
   "source": [
    "tweets_cv.head()"
   ]
  },
  {
   "cell_type": "markdown",
   "id": "0f58fba2-4dbd-4a61-8608-9bba96e23d37",
   "metadata": {
    "id": "0f58fba2-4dbd-4a61-8608-9bba96e23d37"
   },
   "source": [
    "#### Let's look at the corpus by representative"
   ]
  },
  {
   "cell_type": "code",
   "execution_count": 32,
   "id": "80b6e0cf-a235-431a-b4df-3fba4ad585ee",
   "metadata": {
    "colab": {
     "base_uri": "https://localhost:8080/"
    },
    "executionInfo": {
     "elapsed": 22,
     "status": "ok",
     "timestamp": 1660136469050,
     "user": {
      "displayName": "Luisa Gonzalez",
      "userId": "09172697332445122098"
     },
     "user_tz": 240
    },
    "id": "80b6e0cf-a235-431a-b4df-3fba4ad585ee",
    "outputId": "2057f7cc-51c4-4aac-effc-e017bce2510c"
   },
   "outputs": [
    {
     "data": {
      "text/plain": [
       "['Brian Fitzpatrick',\n",
       " 'Brendan Boyle',\n",
       " 'Dwight Evans',\n",
       " 'Madeleine Dean',\n",
       " 'Mary Gay Scanlon',\n",
       " 'Chrissy Houlahan',\n",
       " 'Susan Wild',\n",
       " 'Matt Cartwright',\n",
       " 'Dan Mueser',\n",
       " 'Scott Perry',\n",
       " 'Lloyd Smucker',\n",
       " 'Fred Keller',\n",
       " 'John Joyce',\n",
       " 'Guy Reschenthaler',\n",
       " 'Glenn Thompson',\n",
       " 'Mike Kelly',\n",
       " 'Conor Lamb',\n",
       " 'Michael Doyle']"
      ]
     },
     "execution_count": 32,
     "metadata": {},
     "output_type": "execute_result"
    }
   ],
   "source": [
    "representative"
   ]
  },
  {
   "cell_type": "code",
   "execution_count": 33,
   "id": "0038ff7d-0ff8-4f2a-b7a6-bfcbb71e8923",
   "metadata": {
    "executionInfo": {
     "elapsed": 6357,
     "status": "ok",
     "timestamp": 1660136475396,
     "user": {
      "displayName": "Luisa Gonzalez",
      "userId": "09172697332445122098"
     },
     "user_tz": 240
    },
    "id": "0038ff7d-0ff8-4f2a-b7a6-bfcbb71e8923",
    "tags": []
   },
   "outputs": [],
   "source": [
    "Fitzpatrick = tweets_cv.query('Representative == \"Brian Fitzpatrick\"').drop(columns=['district','party','followers_count', 'Representative', 'url_free_tweets'])"
   ]
  },
  {
   "cell_type": "code",
   "execution_count": 34,
   "id": "a5e2289e-0496-4882-a107-1cac45793dd1",
   "metadata": {
    "executionInfo": {
     "elapsed": 9535,
     "status": "ok",
     "timestamp": 1660136484896,
     "user": {
      "displayName": "Luisa Gonzalez",
      "userId": "09172697332445122098"
     },
     "user_tz": 240
    },
    "id": "a5e2289e-0496-4882-a107-1cac45793dd1"
   },
   "outputs": [],
   "source": [
    "Boyle = tweets_cv.query('Representative == \"Brendan Boyle\"').drop(columns=['district','party','followers_count', 'Representative', 'url_free_tweets'])\n",
    "Evans = tweets_cv.query('Representative == \"Dwight Evans\"').drop(columns=['district','party','followers_count', 'Representative', 'url_free_tweets'])\n",
    "Dean = tweets_cv.query('Representative == \"Madeleine Dean\"').drop(columns=['district','party','followers_count', 'Representative', 'url_free_tweets'])\n",
    "Scanlon = tweets_cv.query('Representative == \"Mary Gay Scanlon\"').drop(columns=['district','party','followers_count', 'Representative', 'url_free_tweets'])\n",
    "Houlahan = tweets_cv.query('Representative == \"Chrissy Houlahan\"').drop(columns=['district','party','followers_count', 'Representative', 'url_free_tweets'])\n",
    "Wild = tweets_cv.query('Representative == \"Susan Wild\"').drop(columns=['district','party','followers_count', 'Representative', 'url_free_tweets'])"
   ]
  },
  {
   "cell_type": "code",
   "execution_count": 35,
   "id": "bc4efc36-ea97-4e45-baee-4e052b7ce9bc",
   "metadata": {
    "executionInfo": {
     "elapsed": 16157,
     "status": "ok",
     "timestamp": 1660136501031,
     "user": {
      "displayName": "Luisa Gonzalez",
      "userId": "09172697332445122098"
     },
     "user_tz": 240
    },
    "id": "bc4efc36-ea97-4e45-baee-4e052b7ce9bc"
   },
   "outputs": [],
   "source": [
    "Cartwright = tweets_cv.query('Representative == \"Matt Cartwright\"').drop(columns=['district','party','followers_count', 'Representative', 'url_free_tweets'])\n",
    "Mueser = tweets_cv.query('Representative == \"Dan Mueser\"').drop(columns=['district','party','followers_count', 'Representative', 'url_free_tweets'])\n",
    "Perry = tweets_cv.query('Representative == \"Scott Perry\"').drop(columns=['district','party','followers_count', 'Representative', 'url_free_tweets'])\n",
    "Smucker = tweets_cv.query('Representative == \"Lloyd Smucker\"').drop(columns=['district','party','followers_count', 'Representative', 'url_free_tweets'])\n",
    "Keller = tweets_cv.query('Representative == \"Fred Keller\"').drop(columns=['district','party','followers_count', 'Representative', 'url_free_tweets'])\n",
    "Joyce = tweets_cv.query('Representative == \"John Joyce\"').drop(columns=['district','party','followers_count', 'Representative', 'url_free_tweets'])\n",
    "Reschenthaler = tweets_cv.query('Representative == \"Guy Reschenthaler\"').drop(columns=['district','party','followers_count', 'Representative', 'url_free_tweets'])\n",
    "Thompson = tweets_cv.query('Representative == \"Glenn Thompson\"').drop(columns=['district','party','followers_count', 'Representative', 'url_free_tweets'])\n",
    "Kelly = tweets_cv.query('Representative == \"Mike Kelly\"').drop(columns=['district','party','followers_count', 'Representative', 'url_free_tweets'])\n",
    "Lamb = tweets_cv.query('Representative == \"Conor Lamb\"').drop(columns=['district','party','followers_count', 'Representative', 'url_free_tweets'])\n",
    "Doyle = tweets_cv.query('Representative == \"Michael Doyle\"').drop(columns=['district','party','followers_count', 'Representative', 'url_free_tweets'])"
   ]
  },
  {
   "cell_type": "markdown",
   "id": "de7bX8aZxxOi",
   "metadata": {
    "id": "de7bX8aZxxOi"
   },
   "source": [
    "### Let's look at the most common words by representative for the first 7 representatives on our list above"
   ]
  },
  {
   "cell_type": "code",
   "execution_count": 36,
   "id": "XCjfNE3oxdxV",
   "metadata": {
    "colab": {
     "base_uri": "https://localhost:8080/",
     "height": 451
    },
    "executionInfo": {
     "elapsed": 269,
     "status": "ok",
     "timestamp": 1660136501290,
     "user": {
      "displayName": "Luisa Gonzalez",
      "userId": "09172697332445122098"
     },
     "user_tz": 240
    },
    "id": "XCjfNE3oxdxV",
    "outputId": "0b46bcfa-182c-491a-d569-be3859964c14"
   },
   "outputs": [
    {
     "data": {
      "image/png": "[encoded data removed]",
      "text/plain": [
       "<Figure size 720x504 with 1 Axes>"
      ]
     },
     "metadata": {
      "needs_background": "light"
     },
     "output_type": "display_data"
    }
   ],
   "source": [
    "plt.figure(figsize=(10, 7))\n",
    "Fitzpatrick.sum().sort_values(ascending=False).head(15).plot(kind='barh')\n",
    "plt.xticks(fontsize=12)\n",
    "plt.yticks(fontsize=12)\n",
    "plt.title('The 15 most common words used by Rep. Fitzpatrick (R)', fontsize=14);"
   ]
  },
  {
   "cell_type": "code",
   "execution_count": 37,
   "id": "IA-jF6TZxooO",
   "metadata": {
    "colab": {
     "base_uri": "https://localhost:8080/",
     "height": 451
    },
    "executionInfo": {
     "elapsed": 322,
     "status": "ok",
     "timestamp": 1660136501611,
     "user": {
      "displayName": "Luisa Gonzalez",
      "userId": "09172697332445122098"
     },
     "user_tz": 240
    },
    "id": "IA-jF6TZxooO",
    "outputId": "cf65693f-567e-4536-8765-e3f1bbfa1c45"
   },
   "outputs": [
    {
     "data": {
      "image/png": "[encoded data removed]",
      "text/plain": [
       "<Figure size 720x504 with 1 Axes>"
      ]
     },
     "metadata": {
      "needs_background": "light"
     },
     "output_type": "display_data"
    }
   ],
   "source": [
    "plt.figure(figsize=(10, 7))\n",
    "Boyle.sum().sort_values(ascending=False).head(15).plot(kind='barh')\n",
    "plt.xticks(fontsize=12)\n",
    "plt.yticks(fontsize=12)\n",
    "plt.title('The 15 most common words used by Rep. Boyle (D)', fontsize=14);"
   ]
  },
  {
   "cell_type": "code",
   "execution_count": 38,
   "id": "56ymltkgyWy_",
   "metadata": {
    "colab": {
     "base_uri": "https://localhost:8080/",
     "height": 451
    },
    "executionInfo": {
     "elapsed": 263,
     "status": "ok",
     "timestamp": 1660136501872,
     "user": {
      "displayName": "Luisa Gonzalez",
      "userId": "09172697332445122098"
     },
     "user_tz": 240
    },
    "id": "56ymltkgyWy_",
    "outputId": "56e8b7cb-5417-4735-dd28-7a2d776822bd"
   },
   "outputs": [
    {
     "data": {
      "image/png": "[encoded data removed]",
      "text/plain": [
       "<Figure size 720x504 with 1 Axes>"
      ]
     },
     "metadata": {
      "needs_background": "light"
     },
     "output_type": "display_data"
    }
   ],
   "source": [
    "plt.figure(figsize=(10, 7))\n",
    "Evans.sum().sort_values(ascending=False).head(15).plot(kind='barh')\n",
    "plt.xticks(fontsize=12)\n",
    "plt.yticks(fontsize=12)\n",
    "plt.title('The 15 most common words used by Rep. Evans (D)', fontsize=14);"
   ]
  },
  {
   "cell_type": "code",
   "execution_count": 39,
   "id": "sst73vTCyhN8",
   "metadata": {
    "colab": {
     "base_uri": "https://localhost:8080/",
     "height": 451
    },
    "executionInfo": {
     "elapsed": 255,
     "status": "ok",
     "timestamp": 1660136502126,
     "user": {
      "displayName": "Luisa Gonzalez",
      "userId": "09172697332445122098"
     },
     "user_tz": 240
    },
    "id": "sst73vTCyhN8",
    "outputId": "4108f7d6-e1b8-4fcf-98de-2a8467576fa9"
   },
   "outputs": [
    {
     "data": {
      "image/png": "[encoded data removed]",
      "text/plain": [
       "<Figure size 720x504 with 1 Axes>"
      ]
     },
     "metadata": {
      "needs_background": "light"
     },
     "output_type": "display_data"
    }
   ],
   "source": [
    "plt.figure(figsize=(10, 7))\n",
    "Dean.sum().sort_values(ascending=False).head(15).plot(kind='barh')\n",
    "plt.xticks(fontsize=12)\n",
    "plt.yticks(fontsize=12)\n",
    "plt.title('The 15 most common words used by Rep. Dean (D)', fontsize=14);"
   ]
  },
  {
   "cell_type": "code",
   "execution_count": 40,
   "id": "ki8_c3T2y0S6",
   "metadata": {
    "colab": {
     "base_uri": "https://localhost:8080/",
     "height": 451
    },
    "executionInfo": {
     "elapsed": 458,
     "status": "ok",
     "timestamp": 1660136502582,
     "user": {
      "displayName": "Luisa Gonzalez",
      "userId": "09172697332445122098"
     },
     "user_tz": 240
    },
    "id": "ki8_c3T2y0S6",
    "outputId": "9277cc53-4142-475f-cbb7-ee410230c12f"
   },
   "outputs": [
    {
     "data": {
      "image/png": "[encoded data removed]",
      "text/plain": [
       "<Figure size 720x504 with 1 Axes>"
      ]
     },
     "metadata": {
      "needs_background": "light"
     },
     "output_type": "display_data"
    }
   ],
   "source": [
    "plt.figure(figsize=(10, 7))\n",
    "Scanlon.sum().sort_values(ascending=False).head(15).plot(kind='barh')\n",
    "plt.xticks(fontsize=12)\n",
    "plt.yticks(fontsize=12)\n",
    "plt.title('The 15 most common words used by Rep. Scanlon (D)', fontsize=14);"
   ]
  },
  {
   "cell_type": "code",
   "execution_count": 41,
   "id": "Y0QCoun7zAF3",
   "metadata": {
    "colab": {
     "base_uri": "https://localhost:8080/",
     "height": 451
    },
    "executionInfo": {
     "elapsed": 394,
     "status": "ok",
     "timestamp": 1660136502974,
     "user": {
      "displayName": "Luisa Gonzalez",
      "userId": "09172697332445122098"
     },
     "user_tz": 240
    },
    "id": "Y0QCoun7zAF3",
    "outputId": "e36839ae-e9af-4bd2-ffc0-06581ac02d29"
   },
   "outputs": [
    {
     "data": {
      "image/png": "[encoded data removed]",
      "text/plain": [
       "<Figure size 720x504 with 1 Axes>"
      ]
     },
     "metadata": {
      "needs_background": "light"
     },
     "output_type": "display_data"
    }
   ],
   "source": [
    "plt.figure(figsize=(10, 7))\n",
    "Houlahan.sum().sort_values(ascending=False).head(15).plot(kind='barh')\n",
    "plt.xticks(fontsize=12)\n",
    "plt.yticks(fontsize=12)\n",
    "plt.title('The 15 most common words used by Rep. Houlahan (D)', fontsize=14);"
   ]
  },
  {
   "cell_type": "code",
   "execution_count": 42,
   "id": "8sE3dz7gzVFc",
   "metadata": {
    "colab": {
     "base_uri": "https://localhost:8080/",
     "height": 451
    },
    "executionInfo": {
     "elapsed": 591,
     "status": "ok",
     "timestamp": 1660136503562,
     "user": {
      "displayName": "Luisa Gonzalez",
      "userId": "09172697332445122098"
     },
     "user_tz": 240
    },
    "id": "8sE3dz7gzVFc",
    "outputId": "d860ce8d-1cb5-4063-ce58-faf20176beae"
   },
   "outputs": [
    {
     "data": {
      "image/png": "[encoded data removed]",
      "text/plain": [
       "<Figure size 720x504 with 1 Axes>"
      ]
     },
     "metadata": {
      "needs_background": "light"
     },
     "output_type": "display_data"
    }
   ],
   "source": [
    "plt.figure(figsize=(10, 7))\n",
    "Wild.sum().sort_values(ascending=False).head(15).plot(kind='barh')\n",
    "plt.xticks(fontsize=12)\n",
    "plt.yticks(fontsize=12)\n",
    "plt.title('The 15 most common words used by Rep. Wild (D)', fontsize=14);"
   ]
  },
  {
   "cell_type": "markdown",
   "id": "4QA0GsUw0jRp",
   "metadata": {
    "id": "4QA0GsUw0jRp"
   },
   "source": [
    "From the sample above, we can see a lot of overlap in the words that the PA representatives use on Twitter. Top of many lists include:\n",
    "\n",
    "\n",
    "*   health\n",
    "*   work/workers\n",
    "*   help\n",
    "\n",
    "\n",
    "\n"
   ]
  },
  {
   "cell_type": "code",
   "execution_count": 42,
   "id": "eLFFbfzzzj-Q",
   "metadata": {
    "executionInfo": {
     "elapsed": 10,
     "status": "ok",
     "timestamp": 1660136503563,
     "user": {
      "displayName": "Luisa Gonzalez",
      "userId": "09172697332445122098"
     },
     "user_tz": 240
    },
    "id": "eLFFbfzzzj-Q"
   },
   "outputs": [],
   "source": []
  }
 ],
 "metadata": {
  "accelerator": "GPU",
  "colab": {
   "collapsed_sections": [],
   "machine_shape": "hm",
   "name": "tweeter_eda.ipynb",
   "provenance": []
  },
  "gpuClass": "standard",
  "kernelspec": {
   "display_name": "Python 3 (ipykernel)",
   "language": "python",
   "name": "python3"
  },
  "language_info": {
   "codemirror_mode": {
    "name": "ipython",
    "version": 3
   },
   "file_extension": ".py",
   "mimetype": "text/x-python",
   "name": "python",
   "nbconvert_exporter": "python",
   "pygments_lexer": "ipython3",
   "version": "3.9.7"
  }
 },
 "nbformat": 4,
 "nbformat_minor": 5
}
